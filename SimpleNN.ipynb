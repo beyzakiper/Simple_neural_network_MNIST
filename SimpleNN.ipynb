{
 "cells": [
  {
   "cell_type": "code",
   "execution_count": 1,
   "metadata": {
    "id": "C8PBQBHCTaa-"
   },
   "outputs": [],
   "source": [
    "import numpy as np\n",
    "import torch\n",
    "import torchvision"
   ]
  },
  {
   "cell_type": "code",
   "execution_count": 2,
   "metadata": {
    "colab": {
     "base_uri": "https://localhost:8080/"
    },
    "id": "mcwa-RF0ThKP",
    "outputId": "15933330-cd4f-4d3e-b849-ef4c1655f509"
   },
   "outputs": [
    {
     "data": {
      "text/plain": [
       "True"
      ]
     },
     "execution_count": 2,
     "metadata": {},
     "output_type": "execute_result"
    }
   ],
   "source": [
    "# check if GPU is accessible with pytorch\n",
    "torch.cuda.is_available()"
   ]
  },
  {
   "cell_type": "code",
   "execution_count": 3,
   "metadata": {
    "colab": {
     "base_uri": "https://localhost:8080/"
    },
    "id": "s1zEeuq2XyAl",
    "outputId": "aef1e4ee-d781-4ce0-913d-1f91fdb5f51e"
   },
   "outputs": [
    {
     "name": "stdout",
     "output_type": "stream",
     "text": [
      "Fri Sep 30 16:56:42 2022       \n",
      "+-----------------------------------------------------------------------------+\n",
      "| NVIDIA-SMI 460.32.03    Driver Version: 460.32.03    CUDA Version: 11.2     |\n",
      "|-------------------------------+----------------------+----------------------+\n",
      "| GPU  Name        Persistence-M| Bus-Id        Disp.A | Volatile Uncorr. ECC |\n",
      "| Fan  Temp  Perf  Pwr:Usage/Cap|         Memory-Usage | GPU-Util  Compute M. |\n",
      "|                               |                      |               MIG M. |\n",
      "|===============================+======================+======================|\n",
      "|   0  Tesla V100-SXM2...  Off  | 00000000:00:04.0 Off |                    0 |\n",
      "| N/A   37C    P0    24W / 300W |      2MiB / 16160MiB |      0%      Default |\n",
      "|                               |                      |                  N/A |\n",
      "+-------------------------------+----------------------+----------------------+\n",
      "                                                                               \n",
      "+-----------------------------------------------------------------------------+\n",
      "| Processes:                                                                  |\n",
      "|  GPU   GI   CI        PID   Type   Process name                  GPU Memory |\n",
      "|        ID   ID                                                   Usage      |\n",
      "|=============================================================================|\n",
      "|  No running processes found                                                 |\n",
      "+-----------------------------------------------------------------------------+\n"
     ]
    }
   ],
   "source": [
    "# command to check GPU status\n",
    "!nvidia-smi"
   ]
  },
  {
   "cell_type": "code",
   "execution_count": 4,
   "metadata": {
    "id": "xjzzgeE0ThOJ"
   },
   "outputs": [],
   "source": [
    "#downloading training and test datasets\n",
    "\n",
    "trainingdata = torchvision.datasets.FashionMNIST('./FashionMNIST/',train=True,download=True,transform=torchvision.transforms.ToTensor())\n",
    "testdata = torchvision.datasets.FashionMNIST('./FashionMNIST/',train=False,download=True,transform=torchvision.transforms.ToTensor())"
   ]
  },
  {
   "cell_type": "code",
   "execution_count": 5,
   "metadata": {
    "colab": {
     "base_uri": "https://localhost:8080/"
    },
    "id": "b38Cb_e8ThQV",
    "outputId": "c9588c98-bbde-4760-b0a1-371aa0644aed"
   },
   "outputs": [
    {
     "name": "stdout",
     "output_type": "stream",
     "text": [
      "60000\n",
      "10000\n"
     ]
    }
   ],
   "source": [
    "print(len(trainingdata))\n",
    "print(len(testdata))"
   ]
  },
  {
   "cell_type": "code",
   "execution_count": 6,
   "metadata": {
    "colab": {
     "base_uri": "https://localhost:8080/"
    },
    "id": "HcOShjO_ThTA",
    "outputId": "1a32a42b-55e6-42b3-ec7a-6a0fbf571b4f"
   },
   "outputs": [
    {
     "name": "stdout",
     "output_type": "stream",
     "text": [
      "torch.Size([1, 28, 28]) 9\n"
     ]
    }
   ],
   "source": [
    "image, label = trainingdata[0]\n",
    "print(image.shape, label)"
   ]
  },
  {
   "cell_type": "code",
   "execution_count": 7,
   "metadata": {
    "colab": {
     "base_uri": "https://localhost:8080/",
     "height": 265
    },
    "id": "t9027uA1ThVW",
    "outputId": "421146dd-d7b7-4770-d71f-01fd8df59277"
   },
   "outputs": [
    {
     "data": {
      "image/png": "[encoded data removed]",
      "text/plain": [
       "<Figure size 432x288 with 1 Axes>"
      ]
     },
     "metadata": {
      "needs_background": "light"
     },
     "output_type": "display_data"
    }
   ],
   "source": [
    "#plot one of them\n",
    "import matplotlib.pyplot as plt\n",
    "%matplotlib inline\n",
    "plt.imshow(image.squeeze().numpy())\n",
    "plt.show()"
   ]
  },
  {
   "cell_type": "code",
   "execution_count": 8,
   "metadata": {
    "id": "IGplzjpKThXk"
   },
   "outputs": [],
   "source": [
    "#define batch size and use data loaders\n",
    "batch_size = 64\n",
    "\n",
    "trainDataLoader = torch.utils.data.DataLoader(trainingdata,batch_size=batch_size,shuffle=True)\n",
    "testDataLoader = torch.utils.data.DataLoader(testdata,batch_size=batch_size,shuffle=False)"
   ]
  },
  {
   "cell_type": "code",
   "execution_count": 9,
   "metadata": {
    "colab": {
     "base_uri": "https://localhost:8080/",
     "height": 146
    },
    "id": "9QcTu0-oThZ8",
    "outputId": "163ae7e8-67c5-4137-eb15-f5719f2cd648"
   },
   "outputs": [
    {
     "data": {
      "image/png": "[encoded data removed]",
      "text/plain": [
       "<Figure size 720x288 with 5 Axes>"
      ]
     },
     "metadata": {
      "needs_background": "light"
     },
     "output_type": "display_data"
    }
   ],
   "source": [
    "#plot 5 images\n",
    "images, labels = iter(trainDataLoader).next()\n",
    "\n",
    "plt.figure(figsize=(10,4))\n",
    "for index in np.arange(0,5):\n",
    "  plt.subplot(1,5,index+1)\n",
    "  plt.imshow(images[index].squeeze().numpy(),cmap=plt.cm.gray)"
   ]
  },
  {
   "cell_type": "markdown",
   "metadata": {
    "id": "wEVEWk0NjeDp"
   },
   "source": [
    "**BUILDING THE NETWORK**"
   ]
  },
  {
   "cell_type": "code",
   "execution_count": 10,
   "metadata": {
    "id": "AkHDh6mMUIAH"
   },
   "outputs": [],
   "source": [
    "class NeuralNetwork(torch.nn.Module):\n",
    "  def __init__(self):\n",
    "    super(NeuralNetwork, self).__init__()\n",
    "    self.hidden1 = torch.nn.Linear(784,256) #784 = 28*28 #mnist set is 28x28\n",
    "    self.hidden2 = torch.nn.Linear(256,128)\n",
    "    self.hidden3 = torch.nn.Linear(128,64)\n",
    "    self.output  = torch.nn.Linear(64,10) #output 10 class\n",
    "\n",
    "  def forward(self, x):\n",
    "    x = x.view(-1,28*28) #flattening using view function\n",
    "    x = torch.relu(self.hidden1(x)) #relu activation for the hidden layers\n",
    "    x = torch.relu(self.hidden2(x))\n",
    "    x = torch.relu(self.hidden3(x))\n",
    "    x = self.output(x)\n",
    "\n",
    "    return x"
   ]
  },
  {
   "cell_type": "code",
   "execution_count": 11,
   "metadata": {
    "id": "QBXuCOc1UMcd"
   },
   "outputs": [],
   "source": [
    "#define hyperparameters\n",
    "model = NeuralNetwork().cuda()\n",
    "Loss = torch.nn.CrossEntropyLoss() \n",
    "optimizer = torch.optim.SGD(model.parameters(), lr=0.01)"
   ]
  },
  {
   "cell_type": "markdown",
   "metadata": {
    "id": "yNZGCxwGj-Oa"
   },
   "source": [
    "**TRAIN THE MODEL**"
   ]
  },
  {
   "cell_type": "code",
   "execution_count": 12,
   "metadata": {
    "colab": {
     "base_uri": "https://localhost:8080/"
    },
    "id": "U2qumqSuMfz8",
    "outputId": "f9257b6d-1799-46c7-9fe4-820cf500fca3"
   },
   "outputs": [
    {
     "name": "stdout",
     "output_type": "stream",
     "text": [
      "Epoch 1, Train loss 1.8398020198858622, Test loss 1.0890956558998983\n",
      "Epoch 2, Train loss 0.8588040916840913, Test loss 0.7872043346903127\n",
      "Epoch 3, Train loss 0.6839703025340017, Test loss 0.6781664538155695\n",
      "Epoch 4, Train loss 0.5997406714188773, Test loss 0.6233118396655769\n",
      "Epoch 5, Train loss 0.5462736960794372, Test loss 0.5780041246277512\n",
      "Epoch 6, Train loss 0.5104824260576193, Test loss 0.538612003918666\n",
      "Epoch 7, Train loss 0.48484779808567025, Test loss 0.49090078435126383\n",
      "Epoch 8, Train loss 0.46494785013165807, Test loss 0.47882444539647195\n",
      "Epoch 9, Train loss 0.4481035707983127, Test loss 0.5066130531441634\n",
      "Epoch 10, Train loss 0.43361046471829606, Test loss 0.46370499509914664\n",
      "Epoch 11, Train loss 0.4217175666902111, Test loss 0.45365338691860246\n",
      "Epoch 12, Train loss 0.4103229732147412, Test loss 0.45603394755132637\n",
      "Epoch 13, Train loss 0.4006686931384652, Test loss 0.4252592354633246\n",
      "Epoch 14, Train loss 0.39293848602438786, Test loss 0.43494533695233095\n",
      "Epoch 15, Train loss 0.3845235467243042, Test loss 0.4250161660135172\n",
      "Epoch 16, Train loss 0.3762481033420766, Test loss 0.41241958148919855\n",
      "Epoch 17, Train loss 0.36951175104898176, Test loss 0.42487815677360363\n",
      "Epoch 18, Train loss 0.36075181237606607, Test loss 0.4019810535535691\n",
      "Epoch 19, Train loss 0.35516605850285304, Test loss 0.38996988857627674\n",
      "Epoch 20, Train loss 0.34903225779279207, Test loss 0.4123838641651117\n",
      "Epoch 21, Train loss 0.3429089931489181, Test loss 0.38012980294835036\n",
      "Epoch 22, Train loss 0.3375655250715167, Test loss 0.3873147257384221\n",
      "Epoch 23, Train loss 0.33286929928036385, Test loss 0.3939439285143166\n",
      "Epoch 24, Train loss 0.32736878676105663, Test loss 0.49686205349150736\n",
      "Epoch 25, Train loss 0.3218587190707101, Test loss 0.3657873205508396\n",
      "Epoch 26, Train loss 0.31760715099889586, Test loss 0.421694296370646\n",
      "Epoch 27, Train loss 0.31043946330767197, Test loss 0.4138633471195865\n",
      "Epoch 28, Train loss 0.3080730993689886, Test loss 0.3773159290764742\n",
      "Epoch 29, Train loss 0.3023173901667473, Test loss 0.4111876915784399\n",
      "Epoch 30, Train loss 0.299114761044031, Test loss 0.4095228430192182\n",
      "Epoch 31, Train loss 0.29504206552624956, Test loss 0.39205923334808107\n",
      "Epoch 32, Train loss 0.2911563174270872, Test loss 0.3671472284254754\n",
      "Epoch 33, Train loss 0.28762719253582486, Test loss 0.36787973733464624\n",
      "Epoch 34, Train loss 0.2837829927582222, Test loss 0.3597428018500091\n",
      "Epoch 35, Train loss 0.27911604241902893, Test loss 0.35089641904375357\n",
      "Epoch 36, Train loss 0.27610834551327773, Test loss 0.3707744477281145\n",
      "Epoch 37, Train loss 0.27251523237492736, Test loss 0.354272669003268\n",
      "Epoch 38, Train loss 0.26906607343729877, Test loss 0.37799832338740114\n",
      "Epoch 39, Train loss 0.26522086466203876, Test loss 0.3740824096047195\n",
      "Epoch 40, Train loss 0.26276997306834915, Test loss 0.33782728623812364\n",
      "Epoch 41, Train loss 0.2575194870691691, Test loss 0.34713544615894365\n",
      "Epoch 42, Train loss 0.2562635553035655, Test loss 0.3350437225619699\n",
      "Epoch 43, Train loss 0.2534322247131547, Test loss 0.3477668471776756\n",
      "Epoch 44, Train loss 0.24848459751557694, Test loss 0.3610191109833444\n",
      "Epoch 45, Train loss 0.24738298831527422, Test loss 0.35036764070866216\n",
      "Epoch 46, Train loss 0.24502193574299183, Test loss 0.3604681244131866\n",
      "Epoch 47, Train loss 0.24135852122961332, Test loss 0.34430039726245176\n",
      "Epoch 48, Train loss 0.2378795236857461, Test loss 0.3497589284637172\n",
      "Epoch 49, Train loss 0.2347975457941037, Test loss 0.33256535806283827\n",
      "Epoch 50, Train loss 0.23173455382460978, Test loss 0.34252092721545774\n",
      "Test accuracy is 87.78\n"
     ]
    }
   ],
   "source": [
    "train_loss_history = []\n",
    "test_loss_history = []\n",
    "predictions_list = []\n",
    "\n",
    "epoch = 50\n",
    "for epochs in range(epoch):\n",
    "  train_loss = 0.0\n",
    "  test_loss = 0.0\n",
    "  for i, data in enumerate(trainDataLoader):\n",
    "    images, labels = data\n",
    "    images = images.cuda()\n",
    "    labels = labels.cuda()\n",
    "    optimizer.zero_grad()\n",
    "    predicted_output = model(images)\n",
    "    fit = Loss(predicted_output,labels)\n",
    "    fit.backward()\n",
    "    optimizer.step()\n",
    "    train_loss += fit.item()\n",
    "\n",
    "  correct = 0\n",
    "  total = 0\n",
    "  for i, data in enumerate(testDataLoader):\n",
    "    with torch.no_grad():\n",
    "      images, labels = data\n",
    "      images = images.cuda()\n",
    "      labels = labels.cuda()\n",
    "      predicted_output = model(images)\n",
    "      fit = Loss(predicted_output,labels)\n",
    "      test_loss += fit.item()\n",
    "\n",
    "      _, label = torch.max(predicted_output, 1)\n",
    "      correct += (label == labels).sum().item()\n",
    "      total += len(labels)\n",
    "\n",
    "\n",
    "  train_loss = train_loss/len(trainDataLoader)\n",
    "  test_loss = test_loss/len(testDataLoader)\n",
    "  accuracy = 100* correct / total\n",
    "  train_loss_history.append(train_loss)\n",
    "  test_loss_history.append(test_loss)\n",
    "  print('Epoch %s, Train loss %s, Test loss %s'%(epochs+1, train_loss, test_loss))\n",
    "print('Test accuracy is %s'%(accuracy))"
   ]
  },
  {
   "cell_type": "code",
   "execution_count": 13,
   "metadata": {
    "colab": {
     "base_uri": "https://localhost:8080/",
     "height": 297
    },
    "id": "YtpshX-4U3jX",
    "outputId": "b7343030-f06d-419b-f6f9-67cba4ffb327"
   },
   "outputs": [
    {
     "data": {
      "text/plain": [
       "<matplotlib.legend.Legend at 0x7ff4098da310>"
      ]
     },
     "execution_count": 13,
     "metadata": {},
     "output_type": "execute_result"
    },
    {
     "data": {
      "image/png": "[encoded data removed]",
      "text/plain": [
       "<Figure size 432x288 with 1 Axes>"
      ]
     },
     "metadata": {
      "needs_background": "light"
     },
     "output_type": "display_data"
    }
   ],
   "source": [
    "plt.plot(range(epoch),train_loss_history,'-',linewidth=3,label='Train error')\n",
    "plt.plot(range(epoch),test_loss_history,'-',linewidth=3,label='Test error')\n",
    "plt.xlabel('epoch')\n",
    "plt.ylabel('loss')\n",
    "plt.grid(True)\n",
    "plt.legend()"
   ]
  },
  {
   "cell_type": "code",
   "execution_count": 14,
   "metadata": {
    "colab": {
     "base_uri": "https://localhost:8080/"
    },
    "id": "NWRB73YnU3nq",
    "outputId": "6007f36f-8501-4026-cf76-49cbc3b8bca3"
   },
   "outputs": [
    {
     "name": "stdout",
     "output_type": "stream",
     "text": [
      "Test accuracy is 87.78\n"
     ]
    }
   ],
   "source": [
    "print('Test accuracy is %s'%(accuracy))"
   ]
  },
  {
   "cell_type": "markdown",
   "metadata": {
    "id": "X10OzvSdObyD"
   },
   "source": [
    "Model's test accuracy is 87.78%\n",
    "\n",
    "Also, from the graph we can observe that our model is learning. (Loss is gettin smaller.)\n",
    "\n",
    "Also, no overfitting is observed in the data. (Typically test or validation loss should be similar to but slightly higher than training loss. Our graph looks good.)"
   ]
  },
  {
   "cell_type": "markdown",
   "metadata": {
    "id": "SvgtpnkoNqFT"
   },
   "source": [
    "# Finding Class Probabilities\n",
    "\n",
    "I'm using softmax to find class probabilities."
   ]
  },
  {
   "cell_type": "code",
   "execution_count": 63,
   "metadata": {
    "id": "aJgvktsHamnZ"
   },
   "outputs": [],
   "source": [
    "#I used sigmoid function to find class probabilities.\n",
    "sm = torch.nn.Softmax(dim=1)\n",
    "predicted_output = model(images)\n",
    "probabilities = sm(predicted_output).cpu().detach().numpy() "
   ]
  },
  {
   "cell_type": "code",
   "execution_count": 66,
   "metadata": {
    "colab": {
     "base_uri": "https://localhost:8080/",
     "height": 625
    },
    "id": "00m7spr9bYN6",
    "outputId": "3420609e-fc18-48b0-9bc0-13ac6213f854"
   },
   "outputs": [
    {
     "data": {
      "text/plain": [
       "Text(0.5, 1.0, '0.99942446')"
      ]
     },
     "execution_count": 66,
     "metadata": {},
     "output_type": "execute_result"
    },
    {
     "data": {
      "image/png": "[encoded data removed]",
      "text/plain": [
       "<Figure size 720x720 with 6 Axes>"
      ]
     },
     "metadata": {
      "needs_background": "light"
     },
     "output_type": "display_data"
    }
   ],
   "source": [
    "X = list(range(0, 10)) #we have 10 classes, we will use this for bar plot.\n",
    "plt.figure(figsize=(10,10))\n",
    "plt.subplot(3,2,1)\n",
    "plt.imshow(images[0].cpu().squeeze().numpy(),cmap=plt.cm.gray) #draws and plots the image 0 in the set.\n",
    "plt.subplot(3,2,2)\n",
    "plt.bar(X, probabilities[0]) #graphs the \n",
    "plt.title(probabilities[0].max())\n",
    "\n",
    "plt.subplot(3,2,3)\n",
    "plt.imshow(images[1].cpu().squeeze().numpy(),cmap=plt.cm.gray)\n",
    "plt.subplot(3,2,4)\n",
    "plt.bar(X, probabilities[1])\n",
    "plt.title(probabilities[1].max())\n",
    "\n",
    "plt.subplot(3,2,5)\n",
    "plt.imshow(images[2].cpu().squeeze().numpy(),cmap=plt.cm.gray)\n",
    "plt.subplot(3,2,6)\n",
    "plt.bar(X, probabilities[2])\n",
    "plt.title(probabilities[2].max())"
   ]
  },
  {
   "cell_type": "markdown",
   "metadata": {
    "id": "_sSkmP0SqPOS"
   },
   "source": [
    "I printed first 3 images and related probabilities using sigmoid function. Accordingly, for the first image highest probability occurs at class 3 (0.983) so our model classify this as label 3. (Probably a dress). If we check below, I also printed actual labels and predicted labels and it shows that actual label is also label 3. Our model classified the image correctly.\n",
    "\n",
    "Similarly, for the second image highest probability occurs at class 2 (0.695); the probability is a bit low since even for us, it is not very clear if it's a shirt or not. Also, for the third image highest probability occurs at class 7 (0.999). \n",
    "\n",
    "Based on the labels shown below, our model classified all three images correctly.\n"
   ]
  },
  {
   "cell_type": "code",
   "execution_count": 16,
   "metadata": {
    "colab": {
     "base_uri": "https://localhost:8080/"
    },
    "id": "zqMqz9dnZ10h",
    "outputId": "f74740c3-c74f-4b5c-9720-f05f34809b19"
   },
   "outputs": [
    {
     "name": "stdout",
     "output_type": "stream",
     "text": [
      "Actual labels tensor([3, 2, 7, 5, 8, 4, 5, 6, 8, 9, 1, 9, 1, 8, 1, 5], device='cuda:0')\n",
      "Predicted labels tensor([3, 2, 7, 5, 8, 4, 5, 0, 8, 9, 1, 9, 1, 8, 1, 5], device='cuda:0')\n"
     ]
    }
   ],
   "source": [
    "#checking class labels\n",
    "predicted_output = model(images)\n",
    "_,p_label = torch.max(predicted_output, 1)\n",
    "print('Actual labels %s'%(labels))\n",
    "print('Predicted labels %s'%(p_label))\n"
   ]
  },
  {
   "cell_type": "markdown",
   "metadata": {
    "id": "xgxxUeK1OVYc"
   },
   "source": [
    "As we see, our model predicted 15/16 images correctly. Our model predicted image in index 7 incorrectly."
   ]
  },
  {
   "cell_type": "markdown",
   "metadata": {
    "id": "HFjd4DmfQaLB"
   },
   "source": []
  }
 ],
 "metadata": {
  "accelerator": "GPU",
  "colab": {
   "provenance": []
  },
  "kernelspec": {
   "display_name": "Python 3",
   "language": "python",
   "name": "python3"
  },
  "language_info": {
   "codemirror_mode": {
    "name": "ipython",
    "version": 3
   },
   "file_extension": ".py",
   "mimetype": "text/x-python",
   "name": "python",
   "nbconvert_exporter": "python",
   "pygments_lexer": "ipython3",
   "version": "3.8.8"
  }
 },
 "nbformat": 4,
 "nbformat_minor": 1
}
